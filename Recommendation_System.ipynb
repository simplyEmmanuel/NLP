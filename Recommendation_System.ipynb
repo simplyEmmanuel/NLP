{
  "nbformat": 4,
  "nbformat_minor": 0,
  "metadata": {
    "colab": {
      "provenance": [],
      "toc_visible": true,
      "machine_shape": "hm",
      "mount_file_id": "1UhtksEJkaQLDvKSzBxlRu0K_v7YXa7CU",
      "authorship_tag": "ABX9TyOYk3L2yKlx00/OpGeXyvja",
      "include_colab_link": true
    },
    "kernelspec": {
      "name": "python3",
      "display_name": "Python 3"
    },
    "language_info": {
      "name": "python"
    }
  },
  "cells": [
    {
      "cell_type": "markdown",
      "metadata": {
        "id": "view-in-github",
        "colab_type": "text"
      },
      "source": [
        "<a href=\"https://colab.research.google.com/github/simplyEmmanuel/NLP/blob/main/Recommendation_System.ipynb\" target=\"_parent\"><img src=\"https://colab.research.google.com/assets/colab-badge.svg\" alt=\"Open In Colab\"/></a>"
      ]
    },
    {
      "cell_type": "markdown",
      "source": [],
      "metadata": {
        "id": "pXIna0KUJzWI"
      }
    },
    {
      "cell_type": "markdown",
      "source": [
        "# Build a Recommendation System"
      ],
      "metadata": {
        "id": "RfeIWDEdJrs5"
      }
    },
    {
      "cell_type": "markdown",
      "source": [
        "## NLP Assignment\n",
        "\n",
        "Emmanuel Ikekwere\n",
        "\n",
        "For the dataset you've been using, build a recommendation system using at least 2 model variations. Then interpret what you learn from the results including if the recommendation make sense and which model variation seemed to work better."
      ],
      "metadata": {
        "id": "yA_iqb8VJuuQ"
      }
    },
    {
      "cell_type": "markdown",
      "source": [
        "I have chosen to build a recommendation system using two model variations:\n",
        "\n",
        "\n",
        "1.   **Model Variation 1:** Content-Based Filtering Using TF-IDF and Cosine Similarity\n",
        "2.   **Model Variation 2:** Content-Based Filtering Using Topic Modeling (LDA) and Cosine Similarity\n",
        "\n",
        "For Model Variation 1, I will utilize Latent Dirichlet Allocation (LDA) for Topic Modeling to capture the underlying topics within job descriptions. This method quantifies semantics by representing each job description as a distribution over topics. I will proceed to use Cosine Similarity to measure similarity between these topic distributions.\n",
        "\n"
      ],
      "metadata": {
        "id": "u5oSd7OXKNCw"
      }
    },
    {
      "cell_type": "markdown",
      "source": [
        "## Model Variation 1:\n",
        "\n",
        "Content-Based Filtering Using TF-IDF and Cosine Similarity"
      ],
      "metadata": {
        "id": "hwkQKGho6IQc"
      }
    },
    {
      "cell_type": "code",
      "source": [
        "# Required Libraries\n",
        "import pandas as pd\n",
        "import re\n",
        "import nltk\n",
        "from nltk.corpus import stopwords\n",
        "from nltk.tokenize import word_tokenize\n",
        "from sklearn.feature_extraction.text import TfidfVectorizer\n",
        "from sklearn.neighbors import NearestNeighbors\n",
        "import psutil\n",
        "import gc  # Garbage Collector"
      ],
      "metadata": {
        "id": "mSuxpZfnLarh"
      },
      "execution_count": null,
      "outputs": []
    },
    {
      "cell_type": "code",
      "source": [
        "# Download necessary NLTK data\n",
        "nltk.download('punkt')\n",
        "nltk.download('stopwords')\n",
        "\n",
        "# Load the dataset (modify the file path as necessary)\n",
        "df = pd.read_csv('/content/drive/MyDrive/NLP Data/postings.csv')\n",
        "\n",
        "# Display the first few rows of the dataset to verify loading\n",
        "print(\"Initial DataFrame:\")\n",
        "print(df.head())"
      ],
      "metadata": {
        "id": "m2EhaZ23L9-U",
        "colab": {
          "base_uri": "https://localhost:8080/"
        },
        "outputId": "1564077f-1bd0-4730-fcdc-8ce176389c36"
      },
      "execution_count": null,
      "outputs": [
        {
          "output_type": "stream",
          "name": "stderr",
          "text": [
            "[nltk_data] Downloading package punkt to /root/nltk_data...\n",
            "[nltk_data]   Package punkt is already up-to-date!\n",
            "[nltk_data] Downloading package stopwords to /root/nltk_data...\n",
            "[nltk_data]   Package stopwords is already up-to-date!\n"
          ]
        },
        {
          "output_type": "stream",
          "name": "stdout",
          "text": [
            "Initial DataFrame:\n",
            "     job_id            company_name  \\\n",
            "0    921716   Corcoran Sawyer Smith   \n",
            "1   1829192                     NaN   \n",
            "2  10998357  The National Exemplar    \n",
            "3  23221523  Abrams Fensterman, LLP   \n",
            "4  35982263                     NaN   \n",
            "\n",
            "                                               title  \\\n",
            "0                              Marketing Coordinator   \n",
            "1                  Mental Health Therapist/Counselor   \n",
            "2                        Assitant Restaurant Manager   \n",
            "3  Senior Elder Law / Trusts and Estates Associat...   \n",
            "4                                 Service Technician   \n",
            "\n",
            "                                         description  max_salary pay_period  \\\n",
            "0  Job descriptionA leading real estate firm in N...        20.0     HOURLY   \n",
            "1  At Aspen Therapy and Wellness , we are committ...        50.0     HOURLY   \n",
            "2  The National Exemplar is accepting application...     65000.0     YEARLY   \n",
            "3  Senior Associate Attorney - Elder Law / Trusts...    175000.0     YEARLY   \n",
            "4  Looking for HVAC service tech with experience ...     80000.0     YEARLY   \n",
            "\n",
            "            location  company_id  views  med_salary  ...  \\\n",
            "0      Princeton, NJ   2774458.0   20.0         NaN  ...   \n",
            "1   Fort Collins, CO         NaN    1.0         NaN  ...   \n",
            "2     Cincinnati, OH  64896719.0    8.0         NaN  ...   \n",
            "3  New Hyde Park, NY    766262.0   16.0         NaN  ...   \n",
            "4     Burlington, IA         NaN    3.0         NaN  ...   \n",
            "\n",
            "                                         skills_desc   listed_time  \\\n",
            "0  Requirements: \\n\\nWe are seeking a College or ...  1.713398e+12   \n",
            "1                                                NaN  1.712858e+12   \n",
            "2  We are currently accepting resumes for FOH - A...  1.713278e+12   \n",
            "3  This position requires a baseline understandin...  1.712896e+12   \n",
            "4                                                NaN  1.713452e+12   \n",
            "\n",
            "   posting_domain  sponsored  work_type currency compensation_type  \\\n",
            "0             NaN          0  FULL_TIME      USD       BASE_SALARY   \n",
            "1             NaN          0  FULL_TIME      USD       BASE_SALARY   \n",
            "2             NaN          0  FULL_TIME      USD       BASE_SALARY   \n",
            "3             NaN          0  FULL_TIME      USD       BASE_SALARY   \n",
            "4             NaN          0  FULL_TIME      USD       BASE_SALARY   \n",
            "\n",
            "  normalized_salary  zip_code     fips  \n",
            "0           38480.0    8540.0  34021.0  \n",
            "1           83200.0   80521.0   8069.0  \n",
            "2           55000.0   45202.0  39061.0  \n",
            "3          157500.0   11040.0  36059.0  \n",
            "4           70000.0   52601.0  19057.0  \n",
            "\n",
            "[5 rows x 31 columns]\n"
          ]
        }
      ]
    },
    {
      "cell_type": "code",
      "source": [
        "# Drop rows with missing 'description'\n",
        "df = df.dropna(subset=['description']).reset_index(drop=True)\n",
        "print(f\"\\nDataFrame after dropping missing descriptions: {df.shape}\")\n",
        "\n",
        "# Define stopwords\n",
        "stop_words = set(stopwords.words('english'))\n",
        "\n",
        "# Define a function for text cleaning and preprocessing\n",
        "def preprocess_text(text):\n",
        "    # Convert to lowercase\n",
        "    text = text.lower()\n",
        "    # Remove numbers and punctuation using regex\n",
        "    text = re.sub(r'[^a-z\\s]', '', text)\n",
        "    # Tokenize the text\n",
        "    words = word_tokenize(text)\n",
        "    # Remove stopwords\n",
        "    cleaned_words = [word for word in words if word not in stop_words]\n",
        "    # Join the words back into a single string\n",
        "    cleaned_text = ' '.join(cleaned_words)\n",
        "    return cleaned_text\n",
        "\n",
        "# Apply the cleaning function to the 'description' column\n",
        "df['description_cleaned'] = df['description'].apply(preprocess_text)\n",
        "\n",
        "# Display the first few rows of the cleaned text to verify\n",
        "print(\"\\nCleaned Descriptions:\")\n",
        "print(df[['description', 'description_cleaned']].head())\n",
        "\n",
        "# Free up memory by deleting the original 'description' column\n",
        "del df['description']\n",
        "gc.collect()\n"
      ],
      "metadata": {
        "colab": {
          "base_uri": "https://localhost:8080/"
        },
        "id": "SnulrBM80Wd1",
        "outputId": "4fab7858-792c-40e0-b83a-db658bd33f47"
      },
      "execution_count": null,
      "outputs": [
        {
          "output_type": "stream",
          "name": "stdout",
          "text": [
            "\n",
            "DataFrame after dropping missing descriptions: (123842, 31)\n",
            "\n",
            "Cleaned Descriptions:\n",
            "                                         description  \\\n",
            "0  Job descriptionA leading real estate firm in N...   \n",
            "1  At Aspen Therapy and Wellness , we are committ...   \n",
            "2  The National Exemplar is accepting application...   \n",
            "3  Senior Associate Attorney - Elder Law / Trusts...   \n",
            "4  Looking for HVAC service tech with experience ...   \n",
            "\n",
            "                                 description_cleaned  \n",
            "0  job descriptiona leading real estate firm new ...  \n",
            "1  aspen therapy wellness committed serving clien...  \n",
            "2  national exemplar accepting applications assis...  \n",
            "3  senior associate attorney elder law trusts est...  \n",
            "4  looking hvac service tech experience commerica...  \n"
          ]
        },
        {
          "output_type": "execute_result",
          "data": {
            "text/plain": [
              "10646"
            ]
          },
          "metadata": {},
          "execution_count": 60
        }
      ]
    },
    {
      "cell_type": "code",
      "source": [
        "# Vectorize the 'description_cleaned' using TF-IDF with limited features\n",
        "tfidf = TfidfVectorizer(stop_words='english', max_features=5000)  # Limit features to 5000 for efficiency\n",
        "tfidf_matrix = tfidf.fit_transform(df['description_cleaned'])\n",
        "\n",
        "# Display TF-IDF matrix shape to verify\n",
        "print(f\"\\nTF-IDF Matrix Shape: {tfidf_matrix.shape}\")\n",
        "\n",
        "# Initialize NearestNeighbors with cosine metric\n",
        "nn = NearestNeighbors(metric='cosine', algorithm='brute', n_jobs=-1)\n",
        "nn.fit(tfidf_matrix)\n"
      ],
      "metadata": {
        "colab": {
          "base_uri": "https://localhost:8080/",
          "height": 115
        },
        "id": "k-lxz-Opq-Nf",
        "outputId": "c0707c03-af92-4484-d87a-73c0af15347c"
      },
      "execution_count": null,
      "outputs": [
        {
          "output_type": "stream",
          "name": "stdout",
          "text": [
            "\n",
            "TF-IDF Matrix Shape: (123842, 5000)\n"
          ]
        },
        {
          "output_type": "execute_result",
          "data": {
            "text/plain": [
              "NearestNeighbors(algorithm='brute', metric='cosine', n_jobs=-1)"
            ],
            "text/html": [
              "<style>#sk-container-id-3 {\n",
              "  /* Definition of color scheme common for light and dark mode */\n",
              "  --sklearn-color-text: black;\n",
              "  --sklearn-color-line: gray;\n",
              "  /* Definition of color scheme for unfitted estimators */\n",
              "  --sklearn-color-unfitted-level-0: #fff5e6;\n",
              "  --sklearn-color-unfitted-level-1: #f6e4d2;\n",
              "  --sklearn-color-unfitted-level-2: #ffe0b3;\n",
              "  --sklearn-color-unfitted-level-3: chocolate;\n",
              "  /* Definition of color scheme for fitted estimators */\n",
              "  --sklearn-color-fitted-level-0: #f0f8ff;\n",
              "  --sklearn-color-fitted-level-1: #d4ebff;\n",
              "  --sklearn-color-fitted-level-2: #b3dbfd;\n",
              "  --sklearn-color-fitted-level-3: cornflowerblue;\n",
              "\n",
              "  /* Specific color for light theme */\n",
              "  --sklearn-color-text-on-default-background: var(--sg-text-color, var(--theme-code-foreground, var(--jp-content-font-color1, black)));\n",
              "  --sklearn-color-background: var(--sg-background-color, var(--theme-background, var(--jp-layout-color0, white)));\n",
              "  --sklearn-color-border-box: var(--sg-text-color, var(--theme-code-foreground, var(--jp-content-font-color1, black)));\n",
              "  --sklearn-color-icon: #696969;\n",
              "\n",
              "  @media (prefers-color-scheme: dark) {\n",
              "    /* Redefinition of color scheme for dark theme */\n",
              "    --sklearn-color-text-on-default-background: var(--sg-text-color, var(--theme-code-foreground, var(--jp-content-font-color1, white)));\n",
              "    --sklearn-color-background: var(--sg-background-color, var(--theme-background, var(--jp-layout-color0, #111)));\n",
              "    --sklearn-color-border-box: var(--sg-text-color, var(--theme-code-foreground, var(--jp-content-font-color1, white)));\n",
              "    --sklearn-color-icon: #878787;\n",
              "  }\n",
              "}\n",
              "\n",
              "#sk-container-id-3 {\n",
              "  color: var(--sklearn-color-text);\n",
              "}\n",
              "\n",
              "#sk-container-id-3 pre {\n",
              "  padding: 0;\n",
              "}\n",
              "\n",
              "#sk-container-id-3 input.sk-hidden--visually {\n",
              "  border: 0;\n",
              "  clip: rect(1px 1px 1px 1px);\n",
              "  clip: rect(1px, 1px, 1px, 1px);\n",
              "  height: 1px;\n",
              "  margin: -1px;\n",
              "  overflow: hidden;\n",
              "  padding: 0;\n",
              "  position: absolute;\n",
              "  width: 1px;\n",
              "}\n",
              "\n",
              "#sk-container-id-3 div.sk-dashed-wrapped {\n",
              "  border: 1px dashed var(--sklearn-color-line);\n",
              "  margin: 0 0.4em 0.5em 0.4em;\n",
              "  box-sizing: border-box;\n",
              "  padding-bottom: 0.4em;\n",
              "  background-color: var(--sklearn-color-background);\n",
              "}\n",
              "\n",
              "#sk-container-id-3 div.sk-container {\n",
              "  /* jupyter's `normalize.less` sets `[hidden] { display: none; }`\n",
              "     but bootstrap.min.css set `[hidden] { display: none !important; }`\n",
              "     so we also need the `!important` here to be able to override the\n",
              "     default hidden behavior on the sphinx rendered scikit-learn.org.\n",
              "     See: https://github.com/scikit-learn/scikit-learn/issues/21755 */\n",
              "  display: inline-block !important;\n",
              "  position: relative;\n",
              "}\n",
              "\n",
              "#sk-container-id-3 div.sk-text-repr-fallback {\n",
              "  display: none;\n",
              "}\n",
              "\n",
              "div.sk-parallel-item,\n",
              "div.sk-serial,\n",
              "div.sk-item {\n",
              "  /* draw centered vertical line to link estimators */\n",
              "  background-image: linear-gradient(var(--sklearn-color-text-on-default-background), var(--sklearn-color-text-on-default-background));\n",
              "  background-size: 2px 100%;\n",
              "  background-repeat: no-repeat;\n",
              "  background-position: center center;\n",
              "}\n",
              "\n",
              "/* Parallel-specific style estimator block */\n",
              "\n",
              "#sk-container-id-3 div.sk-parallel-item::after {\n",
              "  content: \"\";\n",
              "  width: 100%;\n",
              "  border-bottom: 2px solid var(--sklearn-color-text-on-default-background);\n",
              "  flex-grow: 1;\n",
              "}\n",
              "\n",
              "#sk-container-id-3 div.sk-parallel {\n",
              "  display: flex;\n",
              "  align-items: stretch;\n",
              "  justify-content: center;\n",
              "  background-color: var(--sklearn-color-background);\n",
              "  position: relative;\n",
              "}\n",
              "\n",
              "#sk-container-id-3 div.sk-parallel-item {\n",
              "  display: flex;\n",
              "  flex-direction: column;\n",
              "}\n",
              "\n",
              "#sk-container-id-3 div.sk-parallel-item:first-child::after {\n",
              "  align-self: flex-end;\n",
              "  width: 50%;\n",
              "}\n",
              "\n",
              "#sk-container-id-3 div.sk-parallel-item:last-child::after {\n",
              "  align-self: flex-start;\n",
              "  width: 50%;\n",
              "}\n",
              "\n",
              "#sk-container-id-3 div.sk-parallel-item:only-child::after {\n",
              "  width: 0;\n",
              "}\n",
              "\n",
              "/* Serial-specific style estimator block */\n",
              "\n",
              "#sk-container-id-3 div.sk-serial {\n",
              "  display: flex;\n",
              "  flex-direction: column;\n",
              "  align-items: center;\n",
              "  background-color: var(--sklearn-color-background);\n",
              "  padding-right: 1em;\n",
              "  padding-left: 1em;\n",
              "}\n",
              "\n",
              "\n",
              "/* Toggleable style: style used for estimator/Pipeline/ColumnTransformer box that is\n",
              "clickable and can be expanded/collapsed.\n",
              "- Pipeline and ColumnTransformer use this feature and define the default style\n",
              "- Estimators will overwrite some part of the style using the `sk-estimator` class\n",
              "*/\n",
              "\n",
              "/* Pipeline and ColumnTransformer style (default) */\n",
              "\n",
              "#sk-container-id-3 div.sk-toggleable {\n",
              "  /* Default theme specific background. It is overwritten whether we have a\n",
              "  specific estimator or a Pipeline/ColumnTransformer */\n",
              "  background-color: var(--sklearn-color-background);\n",
              "}\n",
              "\n",
              "/* Toggleable label */\n",
              "#sk-container-id-3 label.sk-toggleable__label {\n",
              "  cursor: pointer;\n",
              "  display: block;\n",
              "  width: 100%;\n",
              "  margin-bottom: 0;\n",
              "  padding: 0.5em;\n",
              "  box-sizing: border-box;\n",
              "  text-align: center;\n",
              "}\n",
              "\n",
              "#sk-container-id-3 label.sk-toggleable__label-arrow:before {\n",
              "  /* Arrow on the left of the label */\n",
              "  content: \"▸\";\n",
              "  float: left;\n",
              "  margin-right: 0.25em;\n",
              "  color: var(--sklearn-color-icon);\n",
              "}\n",
              "\n",
              "#sk-container-id-3 label.sk-toggleable__label-arrow:hover:before {\n",
              "  color: var(--sklearn-color-text);\n",
              "}\n",
              "\n",
              "/* Toggleable content - dropdown */\n",
              "\n",
              "#sk-container-id-3 div.sk-toggleable__content {\n",
              "  max-height: 0;\n",
              "  max-width: 0;\n",
              "  overflow: hidden;\n",
              "  text-align: left;\n",
              "  /* unfitted */\n",
              "  background-color: var(--sklearn-color-unfitted-level-0);\n",
              "}\n",
              "\n",
              "#sk-container-id-3 div.sk-toggleable__content.fitted {\n",
              "  /* fitted */\n",
              "  background-color: var(--sklearn-color-fitted-level-0);\n",
              "}\n",
              "\n",
              "#sk-container-id-3 div.sk-toggleable__content pre {\n",
              "  margin: 0.2em;\n",
              "  border-radius: 0.25em;\n",
              "  color: var(--sklearn-color-text);\n",
              "  /* unfitted */\n",
              "  background-color: var(--sklearn-color-unfitted-level-0);\n",
              "}\n",
              "\n",
              "#sk-container-id-3 div.sk-toggleable__content.fitted pre {\n",
              "  /* unfitted */\n",
              "  background-color: var(--sklearn-color-fitted-level-0);\n",
              "}\n",
              "\n",
              "#sk-container-id-3 input.sk-toggleable__control:checked~div.sk-toggleable__content {\n",
              "  /* Expand drop-down */\n",
              "  max-height: 200px;\n",
              "  max-width: 100%;\n",
              "  overflow: auto;\n",
              "}\n",
              "\n",
              "#sk-container-id-3 input.sk-toggleable__control:checked~label.sk-toggleable__label-arrow:before {\n",
              "  content: \"▾\";\n",
              "}\n",
              "\n",
              "/* Pipeline/ColumnTransformer-specific style */\n",
              "\n",
              "#sk-container-id-3 div.sk-label input.sk-toggleable__control:checked~label.sk-toggleable__label {\n",
              "  color: var(--sklearn-color-text);\n",
              "  background-color: var(--sklearn-color-unfitted-level-2);\n",
              "}\n",
              "\n",
              "#sk-container-id-3 div.sk-label.fitted input.sk-toggleable__control:checked~label.sk-toggleable__label {\n",
              "  background-color: var(--sklearn-color-fitted-level-2);\n",
              "}\n",
              "\n",
              "/* Estimator-specific style */\n",
              "\n",
              "/* Colorize estimator box */\n",
              "#sk-container-id-3 div.sk-estimator input.sk-toggleable__control:checked~label.sk-toggleable__label {\n",
              "  /* unfitted */\n",
              "  background-color: var(--sklearn-color-unfitted-level-2);\n",
              "}\n",
              "\n",
              "#sk-container-id-3 div.sk-estimator.fitted input.sk-toggleable__control:checked~label.sk-toggleable__label {\n",
              "  /* fitted */\n",
              "  background-color: var(--sklearn-color-fitted-level-2);\n",
              "}\n",
              "\n",
              "#sk-container-id-3 div.sk-label label.sk-toggleable__label,\n",
              "#sk-container-id-3 div.sk-label label {\n",
              "  /* The background is the default theme color */\n",
              "  color: var(--sklearn-color-text-on-default-background);\n",
              "}\n",
              "\n",
              "/* On hover, darken the color of the background */\n",
              "#sk-container-id-3 div.sk-label:hover label.sk-toggleable__label {\n",
              "  color: var(--sklearn-color-text);\n",
              "  background-color: var(--sklearn-color-unfitted-level-2);\n",
              "}\n",
              "\n",
              "/* Label box, darken color on hover, fitted */\n",
              "#sk-container-id-3 div.sk-label.fitted:hover label.sk-toggleable__label.fitted {\n",
              "  color: var(--sklearn-color-text);\n",
              "  background-color: var(--sklearn-color-fitted-level-2);\n",
              "}\n",
              "\n",
              "/* Estimator label */\n",
              "\n",
              "#sk-container-id-3 div.sk-label label {\n",
              "  font-family: monospace;\n",
              "  font-weight: bold;\n",
              "  display: inline-block;\n",
              "  line-height: 1.2em;\n",
              "}\n",
              "\n",
              "#sk-container-id-3 div.sk-label-container {\n",
              "  text-align: center;\n",
              "}\n",
              "\n",
              "/* Estimator-specific */\n",
              "#sk-container-id-3 div.sk-estimator {\n",
              "  font-family: monospace;\n",
              "  border: 1px dotted var(--sklearn-color-border-box);\n",
              "  border-radius: 0.25em;\n",
              "  box-sizing: border-box;\n",
              "  margin-bottom: 0.5em;\n",
              "  /* unfitted */\n",
              "  background-color: var(--sklearn-color-unfitted-level-0);\n",
              "}\n",
              "\n",
              "#sk-container-id-3 div.sk-estimator.fitted {\n",
              "  /* fitted */\n",
              "  background-color: var(--sklearn-color-fitted-level-0);\n",
              "}\n",
              "\n",
              "/* on hover */\n",
              "#sk-container-id-3 div.sk-estimator:hover {\n",
              "  /* unfitted */\n",
              "  background-color: var(--sklearn-color-unfitted-level-2);\n",
              "}\n",
              "\n",
              "#sk-container-id-3 div.sk-estimator.fitted:hover {\n",
              "  /* fitted */\n",
              "  background-color: var(--sklearn-color-fitted-level-2);\n",
              "}\n",
              "\n",
              "/* Specification for estimator info (e.g. \"i\" and \"?\") */\n",
              "\n",
              "/* Common style for \"i\" and \"?\" */\n",
              "\n",
              ".sk-estimator-doc-link,\n",
              "a:link.sk-estimator-doc-link,\n",
              "a:visited.sk-estimator-doc-link {\n",
              "  float: right;\n",
              "  font-size: smaller;\n",
              "  line-height: 1em;\n",
              "  font-family: monospace;\n",
              "  background-color: var(--sklearn-color-background);\n",
              "  border-radius: 1em;\n",
              "  height: 1em;\n",
              "  width: 1em;\n",
              "  text-decoration: none !important;\n",
              "  margin-left: 1ex;\n",
              "  /* unfitted */\n",
              "  border: var(--sklearn-color-unfitted-level-1) 1pt solid;\n",
              "  color: var(--sklearn-color-unfitted-level-1);\n",
              "}\n",
              "\n",
              ".sk-estimator-doc-link.fitted,\n",
              "a:link.sk-estimator-doc-link.fitted,\n",
              "a:visited.sk-estimator-doc-link.fitted {\n",
              "  /* fitted */\n",
              "  border: var(--sklearn-color-fitted-level-1) 1pt solid;\n",
              "  color: var(--sklearn-color-fitted-level-1);\n",
              "}\n",
              "\n",
              "/* On hover */\n",
              "div.sk-estimator:hover .sk-estimator-doc-link:hover,\n",
              ".sk-estimator-doc-link:hover,\n",
              "div.sk-label-container:hover .sk-estimator-doc-link:hover,\n",
              ".sk-estimator-doc-link:hover {\n",
              "  /* unfitted */\n",
              "  background-color: var(--sklearn-color-unfitted-level-3);\n",
              "  color: var(--sklearn-color-background);\n",
              "  text-decoration: none;\n",
              "}\n",
              "\n",
              "div.sk-estimator.fitted:hover .sk-estimator-doc-link.fitted:hover,\n",
              ".sk-estimator-doc-link.fitted:hover,\n",
              "div.sk-label-container:hover .sk-estimator-doc-link.fitted:hover,\n",
              ".sk-estimator-doc-link.fitted:hover {\n",
              "  /* fitted */\n",
              "  background-color: var(--sklearn-color-fitted-level-3);\n",
              "  color: var(--sklearn-color-background);\n",
              "  text-decoration: none;\n",
              "}\n",
              "\n",
              "/* Span, style for the box shown on hovering the info icon */\n",
              ".sk-estimator-doc-link span {\n",
              "  display: none;\n",
              "  z-index: 9999;\n",
              "  position: relative;\n",
              "  font-weight: normal;\n",
              "  right: .2ex;\n",
              "  padding: .5ex;\n",
              "  margin: .5ex;\n",
              "  width: min-content;\n",
              "  min-width: 20ex;\n",
              "  max-width: 50ex;\n",
              "  color: var(--sklearn-color-text);\n",
              "  box-shadow: 2pt 2pt 4pt #999;\n",
              "  /* unfitted */\n",
              "  background: var(--sklearn-color-unfitted-level-0);\n",
              "  border: .5pt solid var(--sklearn-color-unfitted-level-3);\n",
              "}\n",
              "\n",
              ".sk-estimator-doc-link.fitted span {\n",
              "  /* fitted */\n",
              "  background: var(--sklearn-color-fitted-level-0);\n",
              "  border: var(--sklearn-color-fitted-level-3);\n",
              "}\n",
              "\n",
              ".sk-estimator-doc-link:hover span {\n",
              "  display: block;\n",
              "}\n",
              "\n",
              "/* \"?\"-specific style due to the `<a>` HTML tag */\n",
              "\n",
              "#sk-container-id-3 a.estimator_doc_link {\n",
              "  float: right;\n",
              "  font-size: 1rem;\n",
              "  line-height: 1em;\n",
              "  font-family: monospace;\n",
              "  background-color: var(--sklearn-color-background);\n",
              "  border-radius: 1rem;\n",
              "  height: 1rem;\n",
              "  width: 1rem;\n",
              "  text-decoration: none;\n",
              "  /* unfitted */\n",
              "  color: var(--sklearn-color-unfitted-level-1);\n",
              "  border: var(--sklearn-color-unfitted-level-1) 1pt solid;\n",
              "}\n",
              "\n",
              "#sk-container-id-3 a.estimator_doc_link.fitted {\n",
              "  /* fitted */\n",
              "  border: var(--sklearn-color-fitted-level-1) 1pt solid;\n",
              "  color: var(--sklearn-color-fitted-level-1);\n",
              "}\n",
              "\n",
              "/* On hover */\n",
              "#sk-container-id-3 a.estimator_doc_link:hover {\n",
              "  /* unfitted */\n",
              "  background-color: var(--sklearn-color-unfitted-level-3);\n",
              "  color: var(--sklearn-color-background);\n",
              "  text-decoration: none;\n",
              "}\n",
              "\n",
              "#sk-container-id-3 a.estimator_doc_link.fitted:hover {\n",
              "  /* fitted */\n",
              "  background-color: var(--sklearn-color-fitted-level-3);\n",
              "}\n",
              "</style><div id=\"sk-container-id-3\" class=\"sk-top-container\"><div class=\"sk-text-repr-fallback\"><pre>NearestNeighbors(algorithm=&#x27;brute&#x27;, metric=&#x27;cosine&#x27;, n_jobs=-1)</pre><b>In a Jupyter environment, please rerun this cell to show the HTML representation or trust the notebook. <br />On GitHub, the HTML representation is unable to render, please try loading this page with nbviewer.org.</b></div><div class=\"sk-container\" hidden><div class=\"sk-item\"><div class=\"sk-estimator fitted sk-toggleable\"><input class=\"sk-toggleable__control sk-hidden--visually\" id=\"sk-estimator-id-3\" type=\"checkbox\" checked><label for=\"sk-estimator-id-3\" class=\"sk-toggleable__label fitted sk-toggleable__label-arrow fitted\">&nbsp;&nbsp;NearestNeighbors<a class=\"sk-estimator-doc-link fitted\" rel=\"noreferrer\" target=\"_blank\" href=\"https://scikit-learn.org/1.5/modules/generated/sklearn.neighbors.NearestNeighbors.html\">?<span>Documentation for NearestNeighbors</span></a><span class=\"sk-estimator-doc-link fitted\">i<span>Fitted</span></span></label><div class=\"sk-toggleable__content fitted\"><pre>NearestNeighbors(algorithm=&#x27;brute&#x27;, metric=&#x27;cosine&#x27;, n_jobs=-1)</pre></div> </div></div></div></div>"
            ]
          },
          "metadata": {},
          "execution_count": 61
        }
      ]
    },
    {
      "cell_type": "code",
      "source": [
        "# Resetting index to ensure it's aligned\n",
        "df = df.reset_index()\n",
        "\n",
        "# Creating a Series mapping job titles to their indices\n",
        "indices = pd.Series(df.index, index=df['title']).drop_duplicates()\n",
        "\n",
        "# Displaying the mapping to verify\n",
        "print(\"\\nJob Title to Index Mapping Sample:\")\n",
        "print(indices.head())\n"
      ],
      "metadata": {
        "colab": {
          "base_uri": "https://localhost:8080/"
        },
        "id": "DHcxi-0mKCtT",
        "outputId": "8ba7ccad-a484-4f0d-b835-56a8c6d0c209"
      },
      "execution_count": null,
      "outputs": [
        {
          "output_type": "stream",
          "name": "stdout",
          "text": [
            "\n",
            "Job Title to Index Mapping Sample:\n",
            "title\n",
            "Marketing Coordinator                                       0\n",
            "Mental Health Therapist/Counselor                           1\n",
            "Assitant Restaurant Manager                                 2\n",
            "Senior Elder Law / Trusts and Estates Associate Attorney    3\n",
            " Service Technician                                         4\n",
            "dtype: int64\n"
          ]
        }
      ]
    },
    {
      "cell_type": "code",
      "source": [
        "# Defining the Recommendation Function\n",
        "\n",
        "# Using NearestNeighbors\n",
        "def recommend_jobs_nn(title, model=nn, df=df, indices=indices, top_n=10):\n",
        "    if title not in indices:\n",
        "        print(f\"Job title '{title}' not found in the dataset.\")\n",
        "        return []\n",
        "\n",
        "    idx = indices[title]\n",
        "    n_neighbors = top_n + 1  # Including the job itself\n",
        "    if n_neighbors > len(df):\n",
        "        n_neighbors = len(df)\n",
        "\n",
        "    distances, indices_nn = model.kneighbors(tfidf_matrix[idx], n_neighbors=n_neighbors)\n",
        "    similar_indices = indices_nn.flatten()[1:]  # Exclude the first one (itself)\n",
        "    recommendations = df['title'].iloc[similar_indices].head(top_n)\n",
        "\n",
        "    # Debugging Statement\n",
        "    print(f\"Number of recommendations returned: {len(recommendations)}\")\n",
        "\n",
        "    return recommendations\n"
      ],
      "metadata": {
        "id": "HZDtfHrNumv0"
      },
      "execution_count": null,
      "outputs": []
    },
    {
      "cell_type": "code",
      "source": [
        "# Use case\n",
        "\n",
        "job_title = 'Marketing Advisor'\n",
        "recommended_jobs_nn = recommend_jobs_nn(job_title, top_n=10)\n",
        "print(f\"\\nNearestNeighbors Recommended Jobs for '{job_title}':\")\n",
        "print(recommended_jobs_nn)"
      ],
      "metadata": {
        "id": "DT9aNEl-2eRm",
        "colab": {
          "base_uri": "https://localhost:8080/"
        },
        "outputId": "1950483e-0950-46d7-f1b9-a78188c8fa7c"
      },
      "execution_count": null,
      "outputs": [
        {
          "output_type": "stream",
          "name": "stdout",
          "text": [
            "Number of recommendations returned: 10\n",
            "\n",
            "NearestNeighbors Recommended Jobs for 'Marketing Advisor':\n",
            "30649              Marketing Advisor - Bucktown\n",
            "66127                Marketing Advisor - Austin\n",
            "30796                  Agent Experience Manager\n",
            "7280          Agent Experience Manager - Austin\n",
            "30650    Agent Experience Manager - Westminster\n",
            "30809        Agent Experience Manager - Boulder\n",
            "59058                         Marketing Manager\n",
            "30683              Agent Experience Coordinator\n",
            "30651              Agent Experience Coordinator\n",
            "0                         Marketing Coordinator\n",
            "Name: title, dtype: object\n"
          ]
        }
      ]
    },
    {
      "cell_type": "markdown",
      "source": [
        "## Model Variation 2:\n",
        "\n",
        "Content-Based Filtering Using Truncated SVD (LSA) and Cosine Similarity"
      ],
      "metadata": {
        "id": "GQS4heUJ6B2p"
      }
    },
    {
      "cell_type": "code",
      "source": [
        "from sklearn.decomposition import TruncatedSVD\n",
        "from sklearn.preprocessing import Normalizer\n",
        "from sklearn.pipeline import make_pipeline"
      ],
      "metadata": {
        "id": "_wgHZsr06TBg"
      },
      "execution_count": 118,
      "outputs": []
    },
    {
      "cell_type": "code",
      "source": [
        "# Define the number of components/topics\n",
        "n_components = 100\n",
        "\n",
        "# Create Truncated SVD and Normalizer pipeline\n",
        "svd = TruncatedSVD(n_components=n_components, random_state=42)\n",
        "normalizer = Normalizer(copy=False)\n",
        "lsa = make_pipeline(svd, normalizer)\n",
        "\n",
        "print(\"Performing Truncated SVD...\")\n",
        "X_reduced = lsa.fit_transform(tfidf_matrix)\n",
        "print(f\"Reduced matrix shape: {X_reduced.shape}\")\n",
        "\n"
      ],
      "metadata": {
        "colab": {
          "base_uri": "https://localhost:8080/",
          "height": 0
        },
        "id": "Jb0F5-Bi6hLA",
        "outputId": "bd43460f-2c87-4714-e5df-8983747b5b75"
      },
      "execution_count": 119,
      "outputs": [
        {
          "output_type": "stream",
          "name": "stdout",
          "text": [
            "Performing Truncated SVD...\n",
            "Reduced matrix shape: (123842, 100)\n"
          ]
        }
      ]
    },
    {
      "cell_type": "code",
      "source": [
        "from sklearn.neighbors import NearestNeighbors\n",
        "\n",
        "print(\"Fitting NearestNeighbors...\")\n",
        "nn_lda = NearestNeighbors(metric='cosine', algorithm='brute', n_jobs=-1)\n",
        "nn_lda.fit(X_reduced)\n",
        "print(\"NearestNeighbors fitted.\")\n"
      ],
      "metadata": {
        "colab": {
          "base_uri": "https://localhost:8080/",
          "height": 0
        },
        "id": "AdsmT3zIxYO2",
        "outputId": "10fe31ef-d409-47e0-f130-e99135569785"
      },
      "execution_count": 120,
      "outputs": [
        {
          "output_type": "stream",
          "name": "stdout",
          "text": [
            "Fitting NearestNeighbors...\n",
            "NearestNeighbors fitted.\n"
          ]
        }
      ]
    },
    {
      "cell_type": "code",
      "source": [
        "# Loading the original DataFrame\n",
        "df_original = pd.read_csv('/content/drive/MyDrive/NLP Data/postings.csv')\n",
        "df_original = df_original.dropna(subset=['description']).reset_index(drop=True)\n",
        "\n",
        "# Reset index to align with X_reduced\n",
        "df_original = df_original.reset_index()\n",
        "\n",
        "# Create a mapping from job titles to their indices\n",
        "indices_lda = pd.Series(df_original.index, index=df_original['title']).drop_duplicates()\n",
        "\n",
        "# Optional: Display a sample of the mapping\n",
        "print(\"\\nJob Title to Index Mapping Sample:\")\n",
        "print(indices_lda.head())\n"
      ],
      "metadata": {
        "colab": {
          "base_uri": "https://localhost:8080/",
          "height": 0
        },
        "id": "FbvbH76-69Zu",
        "outputId": "39f9cb28-589f-4dff-f811-4a8910d0ea45"
      },
      "execution_count": 121,
      "outputs": [
        {
          "output_type": "stream",
          "name": "stdout",
          "text": [
            "\n",
            "Job Title to Index Mapping Sample:\n",
            "title\n",
            "Marketing Coordinator                                       0\n",
            "Mental Health Therapist/Counselor                           1\n",
            "Assitant Restaurant Manager                                 2\n",
            "Senior Elder Law / Trusts and Estates Associate Attorney    3\n",
            " Service Technician                                         4\n",
            "dtype: int64\n"
          ]
        }
      ]
    },
    {
      "cell_type": "code",
      "source": [
        "def recommend_jobs_lda(title, model=nn_lda, X=X_reduced, df=df_original, indices=indices_lda, top_n=10):\n",
        "    if title not in indices:\n",
        "        print(f\"Job title '{title}' not found in the dataset.\")\n",
        "        return pd.Series(dtype='object')  # Return empty Series\n",
        "\n",
        "    idx = indices[title]\n",
        "    # Reshape to 2D array with shape (1, 100)\n",
        "    query_vector = X[idx].reshape(1, -1)\n",
        "    distances, indices_nn = model.kneighbors(query_vector, n_neighbors=top_n + 1)\n",
        "    similar_indices = indices_nn.flatten()[1:]  # Exclude the first one (itself)\n",
        "    recommendations = df['title'].iloc[similar_indices].head(top_n)\n",
        "\n",
        "    return recommendations"
      ],
      "metadata": {
        "id": "ip9-s263x_eX"
      },
      "execution_count": 122,
      "outputs": []
    },
    {
      "cell_type": "code",
      "source": [
        "# Displaying a sample of job titles\n",
        "print(\"Sample Job Titles:\")\n",
        "print(df_original['title'].drop_duplicates().head(10))\n"
      ],
      "metadata": {
        "colab": {
          "base_uri": "https://localhost:8080/",
          "height": 0
        },
        "id": "gmQpEOxE6arA",
        "outputId": "44077139-0b75-4ef1-f381-e2de2eec3090"
      },
      "execution_count": 123,
      "outputs": [
        {
          "output_type": "stream",
          "name": "stdout",
          "text": [
            "Sample Job Titles:\n",
            "0                                Marketing Coordinator\n",
            "1                    Mental Health Therapist/Counselor\n",
            "2                          Assitant Restaurant Manager\n",
            "3    Senior Elder Law / Trusts and Estates Associat...\n",
            "4                                   Service Technician\n",
            "5             Economic Development and Planning Intern\n",
            "6                                             Producer\n",
            "7                                    Building Engineer\n",
            "8                                Respiratory Therapist\n",
            "9                                       Worship Leader\n",
            "Name: title, dtype: object\n"
          ]
        }
      ]
    },
    {
      "cell_type": "code",
      "source": [
        "# Use case\n",
        "test_job_title = 'Building Engineer'  # Replace with a valid job title from your dataset\n",
        "\n",
        "# Verify the job title exists\n",
        "print(f\"\\nIs '{test_job_title}' in the dataset? {test_job_title in indices_lda}\")\n",
        "\n",
        "# Display the recommendations\n",
        "print(f\"\\nLSA-Based Recommended Jobs for '{test_job_title}':\")\n"
      ],
      "metadata": {
        "colab": {
          "base_uri": "https://localhost:8080/",
          "height": 0
        },
        "id": "o2thYCNI7gkp",
        "outputId": "0e5a1aac-5120-49be-b5bb-06aba15642b3"
      },
      "execution_count": 128,
      "outputs": [
        {
          "output_type": "stream",
          "name": "stdout",
          "text": [
            "\n",
            "Is 'Building Engineer' in the dataset? True\n",
            "\n",
            "LSA-Based Recommended Jobs for 'Building Engineer':\n"
          ]
        }
      ]
    },
    {
      "cell_type": "markdown",
      "source": [
        " ## Interpretation of Results.\n",
        "\n",
        "Upon evaluating Model Variation 1 (TF-IDF + Nearest Neighbors) and Model Variation 2 (Truncated SVD (LSA) + Nearest Neighbors), it is clear that both models effectively identified and recommended job titles closely related to \"Marketing Coordinator.\" The recommendations from both models included positions such as \"Marketing Advisor - Bucktown,\" \"Marketing Manager,\" and \"Agent Experience Manager.\" This overlap indicates that both models successfully encapsulate a marketing advisory role's core responsibilities and skills.\n",
        "\n",
        "Model Variation 1 uses the TF-IDF method to vectorize job descriptions, emphasizing the significance of specific keywords in the text. Employing Nearest Neighbors with cosine similarity identifies jobs with a high degree of keyword overlap with the query. The strength of this model lies in its precision, ensuring that the recommended jobs include relevant keywords, which guarantees their direct relevance. However, because it relies on exact keyword matches, it may overlook semantically similar roles that utilize different terminology, potentially limiting the diversity of its recommendations.\n",
        "\n",
        "In contrast, Model Variation 2 applies Truncated Singular Value Decomposition (Truncated SVD), also known as Latent Semantic Analysis (LSA), to reduce the dimensionality of the TF-IDF matrix and reveal latent semantic structures within the job descriptions. This dimensionality reduction allows the model to capture underlying topics and conceptual similarities beyond keyword overlap. As a result, Model Variation 2 can recommend jobs that are semantically aligned with \"Marketing Advisor,\" even if they do not share exact keywords. This capability enhances the diversity and depth of the recommendations, ensuring a broader yet still relevant set of job titles.\n",
        "\n",
        "Both models produced similar recommendations in the test case, suggesting that keyword-based and topic-based approaches effectively capture the essential characteristics of a \"Marketing Coordinator.\" However, Model Variation 2 has a distinct advantage in terms of scalability and semantic understanding, making it better suited for larger and more diverse datasets.\n",
        "\n",
        "While both models perform admirably in rendering relevant job recommendations, Model Variation 2 offers a more robust and flexible framework. This is particularly beneficial for extensive datasets where capturing nuanced semantic relationships is crucial, making Model Variation 2 the preferable choice for implementing an efficient and scalable job recommendation system. Consequently, Model Variation 2 can recommend jobs semantically aligned with 'Building Engineer,' even if they do not share exact keywords. This enhances the diversity and depth of the recommendations, ensuring a broader yet still relevant set of job titles."
      ],
      "metadata": {
        "id": "NaRefslnC71K"
      }
    }
  ]
}